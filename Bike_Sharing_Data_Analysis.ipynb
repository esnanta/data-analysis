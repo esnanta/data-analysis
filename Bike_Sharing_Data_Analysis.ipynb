{
  "cells": [
    {
      "cell_type": "markdown",
      "metadata": {
        "id": "H9wADwK78DCz"
      },
      "source": [
        "# Proyek Analisis Data: Bike-sharing-dataset.zip\n",
        "- **Nama:** NANTHA SEUTIA\n",
        "- **Email:** ombakrinai@gmail.com\n",
        "- **ID Dicoding:** ombakrinai@gmail.com"
      ]
    },
    {
      "cell_type": "markdown",
      "source": [
        "## Karakteristik Dataset\n",
        "Both hour.csv and day.csv have the following fields, except hr which is not available in day.csv\n",
        "\n",
        "\t- instant: record index\n",
        "\t- dteday : date\n",
        "\t- season : season (1:springer, 2:summer, 3:fall, 4:winter)\n",
        "\t- yr : year (0: 2011, 1:2012)\n",
        "\t- mnth : month ( 1 to 12)\n",
        "\t- hr : hour (0 to 23)\n",
        "\t- holiday : weather day is holiday or not (extracted from http://dchr.dc.gov/page/holiday-schedule)\n",
        "\t- weekday : day of the week\n",
        "\t- workingday : if day is neither weekend nor holiday is 1, otherwise is 0.\n",
        "\t+ weathersit :\n",
        "\t\t- 1: Clear, Few clouds, Partly cloudy, Partly cloudy\n",
        "\t\t- 2: Mist + Cloudy, Mist + Broken clouds, Mist + Few clouds, Mist\n",
        "\t\t- 3: Light Snow, Light Rain + Thunderstorm + Scattered clouds, Light Rain + Scattered clouds\n",
        "\t\t- 4: Heavy Rain + Ice Pallets + Thunderstorm + Mist, Snow + Fog\n",
        "\t- temp : Normalized temperature in Celsius. The values are divided to 41 (max)\n",
        "\t- atemp: Normalized feeling temperature in Celsius. The values are divided to 50 (max)\n",
        "\t- hum: Normalized humidity. The values are divided to 100 (max)\n",
        "\t- windspeed: Normalized wind speed. The values are divided to 67 (max)\n",
        "\t- casual: count of casual users\n",
        "\t- registered: count of registered users\n",
        "\t- cnt: count of total rental bikes including both casual and registered\n",
        "\n",
        "Catatan Tambahan:\n",
        "\n",
        "* 'temp' adalah normalisasi temperatur yang dihitung menggunakan skala. Dalam dataset ini 0 adalah nilai temperatur terendah dan 1 nilai maksimum. Misalkan 'temp' adalah 0,5 berarti suhu tersebut berada di tengah-tengah antara suhu minimum dan maksimum.\n",
        "* 'atemp' adalah variabel perkiraan suhu lingkungan yang dirasa manusia (dipengaruhi oleh temperatur, kelembaban, dan angin) sehingga membuatnya nyaman beraktifitas. Dalam dataset ini diukur menggunakan skala 0-1.\n",
        "\n",
        "\n",
        "\n"
      ],
      "metadata": {
        "id": "B3jZxzrBD3Bb"
      }
    },
    {
      "cell_type": "markdown",
      "source": [
        "**Insight**\n",
        "\n",
        "Karena informasi pada kedua file tersebut relatif sama dan hanya dibedakan dengan variabel 'hr' untuk 'hour.csv', maka diputuskan untuk menggunakan data 'hour.csv' karena memiliki data yang lebih banyak."
      ],
      "metadata": {
        "id": "KBlhIOxCzVYz"
      }
    },
    {
      "cell_type": "markdown",
      "metadata": {
        "id": "eE0raob58DC0"
      },
      "source": [
        "## Menentukan Pertanyaan Bisnis"
      ]
    },
    {
      "cell_type": "markdown",
      "metadata": {
        "id": "GmQeQ5YF8DC0"
      },
      "source": [
        "- Pertanyaan 1\n",
        "- Pertanyaan 2"
      ]
    },
    {
      "cell_type": "markdown",
      "metadata": {
        "id": "H-z4QGlO8DC1"
      },
      "source": [
        "## Import Semua Packages/Library yang Digunakan"
      ]
    },
    {
      "cell_type": "code",
      "execution_count": 8,
      "metadata": {
        "id": "FVYwaObI8DC1"
      },
      "outputs": [],
      "source": [
        "# Import necessary libraries\n",
        "import pandas as pd\n",
        "import zipfile\n",
        "import os\n",
        "import requests"
      ]
    },
    {
      "cell_type": "markdown",
      "metadata": {
        "id": "h_Sh51Xy8DC1"
      },
      "source": [
        "## Data Wrangling"
      ]
    },
    {
      "cell_type": "markdown",
      "metadata": {
        "id": "sXU2GBYu8DC1"
      },
      "source": [
        "### Gathering Data"
      ]
    },
    {
      "cell_type": "code",
      "execution_count": 10,
      "metadata": {
        "id": "zjCBk1BI8DC1",
        "colab": {
          "base_uri": "https://localhost:8080/"
        },
        "outputId": "5a7109dd-8e6e-486c-d9bc-458237807df5"
      },
      "outputs": [
        {
          "output_type": "stream",
          "name": "stdout",
          "text": [
            "Dataset downloaded successfully!\n",
            "Dataset extracted successfully!\n"
          ]
        }
      ],
      "source": [
        "# URL of the zip file in your GitHub repository\n",
        "github_url = 'https://github.com/esnanta/data-analysis/raw/main/Dataset/Bike-sharing-dataset.zip'\n",
        "\n",
        "# Path to save the zip file\n",
        "zip_path = '/tmp/Bike-sharing-dataset.zip'\n",
        "\n",
        "# Download the zip file from GitHub\n",
        "response = requests.get(github_url)\n",
        "if response.status_code == 200:\n",
        "    with open(zip_path, 'wb') as file:\n",
        "        file.write(response.content)\n",
        "    print(\"Dataset downloaded successfully!\")\n",
        "else:\n",
        "    print(\"Failed to download the dataset. Check the URL.\")\n",
        "\n",
        "# Extract the zip file to the /tmp directory\n",
        "with zipfile.ZipFile(zip_path, 'r') as zip_ref:\n",
        "    zip_ref.extractall('/tmp')\n",
        "\n",
        "# File paths for the extracted CSV files\n",
        "day_csv_path = '/tmp/day.csv'\n",
        "hour_csv_path = '/tmp/hour.csv'\n",
        "\n",
        "# Verify extraction\n",
        "if os.path.exists(day_csv_path) and os.path.exists(hour_csv_path):\n",
        "    print(\"Dataset extracted successfully!\")\n",
        "else:\n",
        "    print(\"Failed to extract the dataset.\")"
      ]
    },
    {
      "cell_type": "code",
      "source": [
        "# Read the CSV files using pandas\n",
        "df_hour_data = pd.read_csv(hour_csv_path, delimiter=\",\")\n",
        "\n",
        "# Display the first few rows of each dataframe\n",
        "print(\"\\nHour Data:\")\n",
        "print(df_hour_data.head())"
      ],
      "metadata": {
        "id": "9KqBHnjn6wr_",
        "colab": {
          "base_uri": "https://localhost:8080/"
        },
        "outputId": "5a19185a-9319-4ba7-af10-529287844703"
      },
      "execution_count": 13,
      "outputs": [
        {
          "output_type": "stream",
          "name": "stdout",
          "text": [
            "\n",
            "Hour Data:\n",
            "   instant      dteday  season  yr  mnth  hr  holiday  weekday  workingday  \\\n",
            "0        1  2011-01-01       1   0     1   0        0        6           0   \n",
            "1        2  2011-01-01       1   0     1   1        0        6           0   \n",
            "2        3  2011-01-01       1   0     1   2        0        6           0   \n",
            "3        4  2011-01-01       1   0     1   3        0        6           0   \n",
            "4        5  2011-01-01       1   0     1   4        0        6           0   \n",
            "\n",
            "   weathersit  temp   atemp   hum  windspeed  casual  registered  cnt  \n",
            "0           1  0.24  0.2879  0.81        0.0       3          13   16  \n",
            "1           1  0.22  0.2727  0.80        0.0       8          32   40  \n",
            "2           1  0.22  0.2727  0.80        0.0       5          27   32  \n",
            "3           1  0.24  0.2879  0.75        0.0       3          10   13  \n",
            "4           1  0.24  0.2879  0.75        0.0       0           1    1  \n"
          ]
        }
      ]
    },
    {
      "cell_type": "markdown",
      "source": [
        "**Insight:**\n",
        "<br>Berdasarkan petunjuk dan data yang ditampilkan, maka data dapat dikelompokkan sebagai berikut:\n",
        "- Data kontinu : temp, atemp, hum, windspeed\n",
        "- Data diskret : instant, casual, registered, cnt\n",
        "- Data ordinal : season, weathersit, weekday\n",
        "- Data nominal : dteday, yr, mnth, hr, holiday, workingday."
      ],
      "metadata": {
        "id": "MMi6xGaDkbCi"
      }
    },
    {
      "cell_type": "markdown",
      "metadata": {
        "id": "FHSiqaZp8DC1"
      },
      "source": [
        "### Assessing Data"
      ]
    },
    {
      "cell_type": "code",
      "source": [
        "df_hour_data.info()"
      ],
      "metadata": {
        "id": "DEiIX-PSvgc0",
        "colab": {
          "base_uri": "https://localhost:8080/"
        },
        "outputId": "9c908f57-10dd-41f7-aba7-fba3a824810e"
      },
      "execution_count": 14,
      "outputs": [
        {
          "output_type": "stream",
          "name": "stdout",
          "text": [
            "<class 'pandas.core.frame.DataFrame'>\n",
            "RangeIndex: 17379 entries, 0 to 17378\n",
            "Data columns (total 17 columns):\n",
            " #   Column      Non-Null Count  Dtype  \n",
            "---  ------      --------------  -----  \n",
            " 0   instant     17379 non-null  int64  \n",
            " 1   dteday      17379 non-null  object \n",
            " 2   season      17379 non-null  int64  \n",
            " 3   yr          17379 non-null  int64  \n",
            " 4   mnth        17379 non-null  int64  \n",
            " 5   hr          17379 non-null  int64  \n",
            " 6   holiday     17379 non-null  int64  \n",
            " 7   weekday     17379 non-null  int64  \n",
            " 8   workingday  17379 non-null  int64  \n",
            " 9   weathersit  17379 non-null  int64  \n",
            " 10  temp        17379 non-null  float64\n",
            " 11  atemp       17379 non-null  float64\n",
            " 12  hum         17379 non-null  float64\n",
            " 13  windspeed   17379 non-null  float64\n",
            " 14  casual      17379 non-null  int64  \n",
            " 15  registered  17379 non-null  int64  \n",
            " 16  cnt         17379 non-null  int64  \n",
            "dtypes: float64(4), int64(12), object(1)\n",
            "memory usage: 2.3+ MB\n"
          ]
        }
      ]
    },
    {
      "cell_type": "code",
      "source": [
        "# Memeriksa apakah data ordinal dan nominal memiliki nilai\n",
        "# yang sesuai dengan petunjuk.\n",
        "valid_ranges = {\n",
        "    'season': range(1, 5),         # Seasons: 1 to 4\n",
        "    'weathersit': range(1, 5),     # Weather situations: 1 to 4\n",
        "    'weekday': range(0, 7),        # Weekday: 0 (Sunday) to 6 (Saturday)\n",
        "    'yr': [0, 1],                  # Year: 0 (2011), 1 (2012)\n",
        "    'mnth': range(1, 13),          # Months: 1 to 12\n",
        "    'hr' : range(0,24),            # Hour: 24 hour\n",
        "    'holiday': [0, 1],             # Holiday: 0 (No), 1 (Yes)\n",
        "    'workingday': [0, 1],          # Working day: 0 (No), 1 (Yes)\n",
        "}\n",
        "\n",
        "# List of datasets to check\n",
        "datasets = {\n",
        "    \"df_hour_data\": df_hour_data\n",
        "}\n",
        "\n",
        "# Loop through each dataset\n",
        "for dataset_name, dataset in datasets.items():\n",
        "    print(f\"\\nChecking dataset: {dataset_name}\")\n",
        "\n",
        "    # Initialize a report for invalid values\n",
        "    invalid_values_report = {}\n",
        "\n",
        "    # Loop through each variable and check for invalid values\n",
        "    for column, valid_range in valid_ranges.items():\n",
        "        if column in dataset.columns:\n",
        "            # Check for invalid values\n",
        "            invalid_rows = dataset[~dataset[column].isin(valid_range)]\n",
        "            if not invalid_rows.empty:\n",
        "                invalid_values_report[column] = invalid_rows\n",
        "\n",
        "    # Display the results for the current dataset\n",
        "    if not invalid_values_report:\n",
        "        print(\"All ordinal and nominal variables have valid data.\")\n",
        "    else:\n",
        "        print(\"The following variables have invalid data:\")\n",
        "        for column, invalid_rows in invalid_values_report.items():\n",
        "            print(f\"Variable '{column}' has invalid values in the following rows:\")\n",
        "            print(invalid_rows)"
      ],
      "metadata": {
        "id": "bm1QJChxouMh",
        "colab": {
          "base_uri": "https://localhost:8080/"
        },
        "outputId": "266432da-717d-43e6-bc89-55b3cfb5d01a"
      },
      "execution_count": 15,
      "outputs": [
        {
          "output_type": "stream",
          "name": "stdout",
          "text": [
            "\n",
            "Checking dataset: df_hour_data\n",
            "All ordinal and nominal variables have valid data.\n"
          ]
        }
      ]
    },
    {
      "cell_type": "markdown",
      "source": [
        "**Insight**\n",
        "*  Terdapat kesalahan tipe data untuk 'dteday' yang seharusnya memiliki tipe data 'date'.\n",
        "*   Tidak ada data yang bernilai null\n",
        "*  Tidak ditemukan kesalahan input pada data ordinal dan nominal"
      ],
      "metadata": {
        "id": "qujdNqyzA-N6"
      }
    },
    {
      "cell_type": "code",
      "source": [
        "summary = df_hour_data.describe()\n",
        "print(summary)"
      ],
      "metadata": {
        "id": "EdMa-JKC_PAE",
        "colab": {
          "base_uri": "https://localhost:8080/"
        },
        "outputId": "25187461-2ed4-4f11-b333-1f7fb3ec541f"
      },
      "execution_count": 16,
      "outputs": [
        {
          "output_type": "stream",
          "name": "stdout",
          "text": [
            "          instant        season            yr          mnth            hr  \\\n",
            "count  17379.0000  17379.000000  17379.000000  17379.000000  17379.000000   \n",
            "mean    8690.0000      2.501640      0.502561      6.537775     11.546752   \n",
            "std     5017.0295      1.106918      0.500008      3.438776      6.914405   \n",
            "min        1.0000      1.000000      0.000000      1.000000      0.000000   \n",
            "25%     4345.5000      2.000000      0.000000      4.000000      6.000000   \n",
            "50%     8690.0000      3.000000      1.000000      7.000000     12.000000   \n",
            "75%    13034.5000      3.000000      1.000000     10.000000     18.000000   \n",
            "max    17379.0000      4.000000      1.000000     12.000000     23.000000   \n",
            "\n",
            "            holiday       weekday    workingday    weathersit          temp  \\\n",
            "count  17379.000000  17379.000000  17379.000000  17379.000000  17379.000000   \n",
            "mean       0.028770      3.003683      0.682721      1.425283      0.496987   \n",
            "std        0.167165      2.005771      0.465431      0.639357      0.192556   \n",
            "min        0.000000      0.000000      0.000000      1.000000      0.020000   \n",
            "25%        0.000000      1.000000      0.000000      1.000000      0.340000   \n",
            "50%        0.000000      3.000000      1.000000      1.000000      0.500000   \n",
            "75%        0.000000      5.000000      1.000000      2.000000      0.660000   \n",
            "max        1.000000      6.000000      1.000000      4.000000      1.000000   \n",
            "\n",
            "              atemp           hum     windspeed        casual    registered  \\\n",
            "count  17379.000000  17379.000000  17379.000000  17379.000000  17379.000000   \n",
            "mean       0.475775      0.627229      0.190098     35.676218    153.786869   \n",
            "std        0.171850      0.192930      0.122340     49.305030    151.357286   \n",
            "min        0.000000      0.000000      0.000000      0.000000      0.000000   \n",
            "25%        0.333300      0.480000      0.104500      4.000000     34.000000   \n",
            "50%        0.484800      0.630000      0.194000     17.000000    115.000000   \n",
            "75%        0.621200      0.780000      0.253700     48.000000    220.000000   \n",
            "max        1.000000      1.000000      0.850700    367.000000    886.000000   \n",
            "\n",
            "                cnt  \n",
            "count  17379.000000  \n",
            "mean     189.463088  \n",
            "std      181.387599  \n",
            "min        1.000000  \n",
            "25%       40.000000  \n",
            "50%      142.000000  \n",
            "75%      281.000000  \n",
            "max      977.000000  \n"
          ]
        }
      ]
    },
    {
      "cell_type": "markdown",
      "source": [
        "**Insight:**\n",
        "- setiap kolom punya data 17379 yang artinya tidak ada missing value.\n",
        "- season, yr, mnth, hr terlihat konsisten berdasarkan jumlah data. Perlu analisa distribusi dengan plot frekuensi jika ingin memahami lebih dalam.\n",
        "- holiday (biner [0,1]) dengan Mean 0,02 menunjukkan jumlah data hari libur yang sedikit. Hari libur bernilai 1 (true).\n",
        "- weekday Sunday-Saturday (0,6) memiliki Mean 3. Perlu analisa distribusi dengan plot frekuensi jika ingin memahami lebih dalam.\n",
        "- workingday (biner [0,1]) dengan Mean 0,6 yang berarti lebih banyak hari kerja. Nilai 1 (true) untuk hari kerja.\n",
        "- weathersit menjelaskan kondisi cuaca dengan rentang 1-4. Nilai Mean 1,4 menunjukkan kondisi cuaca sering cerah atau berawan.\n",
        "- temp dan atemp memiliki Mean 0,4 yang berarti kondisi cuaca berada di tengah-tengah batas minimal (0) dan maksimal (1).\n",
        "- humidity dengan Mean 0,6 berarti kelembaban cenderung sedang. Nilai Min : 0 berarti kelembaban kering, dan jika 1 berarti saturasi penuh.\n",
        "- windspeed dengan Min 0 dan Max 0,8 memiliki Mean mendekati 0,2 yang berarti kondisi kecepatan angin rendah.\n",
        "- casual punya kemungkinan cenderung ke kanan (right skewed), karena nilai persentil Q1 adalah 4, jauh lebih kecil dari Q3 yang 48. Nilai Standar Deviasi (49) yang lebih besar dari Mean (35) menunjukkan data tersebar luas.\n",
        "- registered punya kemungkinan cenderung ke kanan (right skewed), karena nilai persentil Q1 adalah 34, jauh lebih kecil dari Q3 yang 220. Nilai Standar Deviasi (151) yang dekat dengan Mean (153) menunjukkan variasi data mendekati Mean.\n",
        "- cnt (total rental) memiliki variasi sebaran data yang sedang karena Standar Deviasi 181 lebih kecil dan tidak terlalu jauh dari Mean 189. Nilai Min 1 dan Max 977 menunjukkan rentang yang jauh dan kemungkinan memiliki outlier. Nilai persentil Q1 adalah 40, jauh lebih kecil dari Q3 yang 281, sehingga data ada kemungkinan cenderung ke kanan (right skewed). Perlu diingat bahwa data cnt dipengaruhi oleh casual dan registered."
      ],
      "metadata": {
        "id": "7dtxhAPrkhPL"
      }
    },
    {
      "cell_type": "markdown",
      "source": [],
      "metadata": {
        "id": "NkufjtDADLJ3"
      }
    },
    {
      "cell_type": "markdown",
      "metadata": {
        "id": "EhN5R4hr8DC1"
      },
      "source": [
        "### Cleaning Data"
      ]
    },
    {
      "cell_type": "code",
      "source": [
        "# Convert the 'dteday' column to datetime\n",
        "df_hour_data['dteday'] = pd.to_datetime(df_hour_data['dteday'])\n",
        "\n",
        "# Verify the change\n",
        "df_hour_data.info()"
      ],
      "metadata": {
        "id": "jVnYpprE9Evz",
        "colab": {
          "base_uri": "https://localhost:8080/"
        },
        "outputId": "43553382-b21a-437c-b484-b0c605ddaea1"
      },
      "execution_count": 17,
      "outputs": [
        {
          "output_type": "stream",
          "name": "stdout",
          "text": [
            "<class 'pandas.core.frame.DataFrame'>\n",
            "RangeIndex: 17379 entries, 0 to 17378\n",
            "Data columns (total 17 columns):\n",
            " #   Column      Non-Null Count  Dtype         \n",
            "---  ------      --------------  -----         \n",
            " 0   instant     17379 non-null  int64         \n",
            " 1   dteday      17379 non-null  datetime64[ns]\n",
            " 2   season      17379 non-null  int64         \n",
            " 3   yr          17379 non-null  int64         \n",
            " 4   mnth        17379 non-null  int64         \n",
            " 5   hr          17379 non-null  int64         \n",
            " 6   holiday     17379 non-null  int64         \n",
            " 7   weekday     17379 non-null  int64         \n",
            " 8   workingday  17379 non-null  int64         \n",
            " 9   weathersit  17379 non-null  int64         \n",
            " 10  temp        17379 non-null  float64       \n",
            " 11  atemp       17379 non-null  float64       \n",
            " 12  hum         17379 non-null  float64       \n",
            " 13  windspeed   17379 non-null  float64       \n",
            " 14  casual      17379 non-null  int64         \n",
            " 15  registered  17379 non-null  int64         \n",
            " 16  cnt         17379 non-null  int64         \n",
            "dtypes: datetime64[ns](1), float64(4), int64(12)\n",
            "memory usage: 2.3 MB\n"
          ]
        }
      ]
    },
    {
      "cell_type": "markdown",
      "source": [
        "**Insight:**\n",
        "- Berdasarkan informasi karakteristik dataset, kolom 'dteday' seherusnya bertipe 'datetime'."
      ],
      "metadata": {
        "id": "Q_5ejIqckiSP"
      }
    },
    {
      "cell_type": "markdown",
      "metadata": {
        "id": "gp-Y6wU38DC1"
      },
      "source": [
        "## Exploratory Data Analysis (EDA)"
      ]
    },
    {
      "cell_type": "markdown",
      "metadata": {
        "id": "MW7WF2kr8DC1"
      },
      "source": [
        "### Explore ..."
      ]
    },
    {
      "cell_type": "code",
      "execution_count": 7,
      "metadata": {
        "id": "e9CQCZjk8DC2"
      },
      "outputs": [],
      "source": []
    },
    {
      "cell_type": "markdown",
      "source": [
        "**Insight:**\n",
        "- xxx\n",
        "- xxx"
      ],
      "metadata": {
        "id": "th_Lzl2Fkj9O"
      }
    },
    {
      "cell_type": "markdown",
      "metadata": {
        "id": "zsyZjqak8DC2"
      },
      "source": [
        "## Visualization & Explanatory Analysis"
      ]
    },
    {
      "cell_type": "markdown",
      "metadata": {
        "id": "HZxOiQ6n8DC2"
      },
      "source": [
        "### Pertanyaan 1:"
      ]
    },
    {
      "cell_type": "code",
      "execution_count": 7,
      "metadata": {
        "id": "1swJUdAD8DC2"
      },
      "outputs": [],
      "source": []
    },
    {
      "cell_type": "markdown",
      "metadata": {
        "id": "DgHI7CiU8DC2"
      },
      "source": [
        "### Pertanyaan 2:"
      ]
    },
    {
      "cell_type": "code",
      "execution_count": 7,
      "metadata": {
        "id": "Go0lCsvO8DC2"
      },
      "outputs": [],
      "source": []
    },
    {
      "cell_type": "markdown",
      "source": [
        "**Insight:**\n",
        "- xxx\n",
        "- xxx"
      ],
      "metadata": {
        "id": "_0-36BDLklRg"
      }
    },
    {
      "cell_type": "markdown",
      "source": [
        "## Analisis Lanjutan (Opsional)"
      ],
      "metadata": {
        "id": "9y4VUsmcYNZ5"
      }
    },
    {
      "cell_type": "code",
      "source": [],
      "metadata": {
        "id": "iWhnzsJGYUCO"
      },
      "execution_count": 7,
      "outputs": []
    },
    {
      "cell_type": "markdown",
      "metadata": {
        "id": "_WeHlCeX8DC2"
      },
      "source": [
        "## Conclusion"
      ]
    },
    {
      "cell_type": "markdown",
      "metadata": {
        "id": "ZTcyR48Y8DC2"
      },
      "source": [
        "- Conclution pertanyaan 1\n",
        "- Conclution pertanyaan 2"
      ]
    }
  ],
  "metadata": {
    "kernelspec": {
      "display_name": "Python 3",
      "language": "python",
      "name": "python3"
    },
    "language_info": {
      "name": "python",
      "version": "3.8.0 (tags/v3.8.0:fa919fd, Oct 14 2019, 19:21:23) [MSC v.1916 32 bit (Intel)]"
    },
    "orig_nbformat": 4,
    "vscode": {
      "interpreter": {
        "hash": "972b3bf27e332e87b5379f2791f6ef9dfc79c71018c370b0d7423235e20fe4d7"
      }
    },
    "colab": {
      "provenance": []
    }
  },
  "nbformat": 4,
  "nbformat_minor": 0
}